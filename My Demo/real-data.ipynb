{
 "cells": [
  {
   "cell_type": "markdown",
   "metadata": {
    "vscode": {
     "languageId": "plaintext"
    }
   },
   "source": [
    "# Real World Examples"
   ]
  },
  {
   "cell_type": "markdown",
   "metadata": {
    "vscode": {
     "languageId": "plaintext"
    }
   },
   "source": [
    "### Line Graph"
   ]
  },
  {
   "cell_type": "code",
   "execution_count": 2,
   "metadata": {},
   "outputs": [],
   "source": [
    "import numpy as np\n",
    "import pandas as pd\n",
    "import matplotlib.pyplot as plt"
   ]
  },
  {
   "cell_type": "code",
   "execution_count": 3,
   "metadata": {},
   "outputs": [
    {
     "data": {
      "application/vnd.microsoft.datawrangler.viewer.v0+json": {
       "columns": [
        {
         "name": "index",
         "rawType": "int64",
         "type": "integer"
        },
        {
         "name": "Year",
         "rawType": "int64",
         "type": "integer"
        },
        {
         "name": "Australia",
         "rawType": "float64",
         "type": "float"
        },
        {
         "name": "Canada",
         "rawType": "float64",
         "type": "float"
        },
        {
         "name": "France",
         "rawType": "float64",
         "type": "float"
        },
        {
         "name": "Germany",
         "rawType": "float64",
         "type": "float"
        },
        {
         "name": "Italy",
         "rawType": "float64",
         "type": "float"
        },
        {
         "name": "Japan",
         "rawType": "float64",
         "type": "float"
        },
        {
         "name": "Mexico",
         "rawType": "float64",
         "type": "float"
        },
        {
         "name": "South Korea",
         "rawType": "float64",
         "type": "float"
        },
        {
         "name": "UK",
         "rawType": "float64",
         "type": "float"
        },
        {
         "name": "USA",
         "rawType": "float64",
         "type": "float"
        }
       ],
       "conversionMethod": "pd.DataFrame",
       "ref": "deae05e9-67c4-4caf-91e5-5a799644eab8",
       "rows": [
        [
         "0",
         "1990",
         null,
         "1.87",
         "3.63",
         "2.65",
         "4.59",
         "3.16",
         "1.0",
         "2.05",
         "2.82",
         "1.16"
        ],
        [
         "1",
         "1991",
         "1.96",
         "1.92",
         "3.45",
         "2.9",
         "4.5",
         "3.46",
         "1.3",
         "2.49",
         "3.01",
         "1.14"
        ],
        [
         "2",
         "1992",
         "1.89",
         "1.73",
         "3.56",
         "3.27",
         "4.53",
         "3.58",
         "1.5",
         "2.65",
         "3.06",
         "1.13"
        ],
        [
         "3",
         "1993",
         "1.73",
         "1.57",
         "3.41",
         "3.07",
         "3.68",
         "4.16",
         "1.56",
         "2.88",
         "2.84",
         "1.11"
        ],
        [
         "4",
         "1994",
         "1.84",
         "1.45",
         "3.59",
         "3.52",
         "3.7",
         "4.36",
         "1.48",
         "2.87",
         "2.99",
         "1.11"
        ]
       ],
       "shape": {
        "columns": 11,
        "rows": 5
       }
      },
      "text/html": [
       "<div>\n",
       "<style scoped>\n",
       "    .dataframe tbody tr th:only-of-type {\n",
       "        vertical-align: middle;\n",
       "    }\n",
       "\n",
       "    .dataframe tbody tr th {\n",
       "        vertical-align: top;\n",
       "    }\n",
       "\n",
       "    .dataframe thead th {\n",
       "        text-align: right;\n",
       "    }\n",
       "</style>\n",
       "<table border=\"1\" class=\"dataframe\">\n",
       "  <thead>\n",
       "    <tr style=\"text-align: right;\">\n",
       "      <th></th>\n",
       "      <th>Year</th>\n",
       "      <th>Australia</th>\n",
       "      <th>Canada</th>\n",
       "      <th>France</th>\n",
       "      <th>Germany</th>\n",
       "      <th>Italy</th>\n",
       "      <th>Japan</th>\n",
       "      <th>Mexico</th>\n",
       "      <th>South Korea</th>\n",
       "      <th>UK</th>\n",
       "      <th>USA</th>\n",
       "    </tr>\n",
       "  </thead>\n",
       "  <tbody>\n",
       "    <tr>\n",
       "      <th>0</th>\n",
       "      <td>1990</td>\n",
       "      <td>NaN</td>\n",
       "      <td>1.87</td>\n",
       "      <td>3.63</td>\n",
       "      <td>2.65</td>\n",
       "      <td>4.59</td>\n",
       "      <td>3.16</td>\n",
       "      <td>1.00</td>\n",
       "      <td>2.05</td>\n",
       "      <td>2.82</td>\n",
       "      <td>1.16</td>\n",
       "    </tr>\n",
       "    <tr>\n",
       "      <th>1</th>\n",
       "      <td>1991</td>\n",
       "      <td>1.96</td>\n",
       "      <td>1.92</td>\n",
       "      <td>3.45</td>\n",
       "      <td>2.90</td>\n",
       "      <td>4.50</td>\n",
       "      <td>3.46</td>\n",
       "      <td>1.30</td>\n",
       "      <td>2.49</td>\n",
       "      <td>3.01</td>\n",
       "      <td>1.14</td>\n",
       "    </tr>\n",
       "    <tr>\n",
       "      <th>2</th>\n",
       "      <td>1992</td>\n",
       "      <td>1.89</td>\n",
       "      <td>1.73</td>\n",
       "      <td>3.56</td>\n",
       "      <td>3.27</td>\n",
       "      <td>4.53</td>\n",
       "      <td>3.58</td>\n",
       "      <td>1.50</td>\n",
       "      <td>2.65</td>\n",
       "      <td>3.06</td>\n",
       "      <td>1.13</td>\n",
       "    </tr>\n",
       "    <tr>\n",
       "      <th>3</th>\n",
       "      <td>1993</td>\n",
       "      <td>1.73</td>\n",
       "      <td>1.57</td>\n",
       "      <td>3.41</td>\n",
       "      <td>3.07</td>\n",
       "      <td>3.68</td>\n",
       "      <td>4.16</td>\n",
       "      <td>1.56</td>\n",
       "      <td>2.88</td>\n",
       "      <td>2.84</td>\n",
       "      <td>1.11</td>\n",
       "    </tr>\n",
       "    <tr>\n",
       "      <th>4</th>\n",
       "      <td>1994</td>\n",
       "      <td>1.84</td>\n",
       "      <td>1.45</td>\n",
       "      <td>3.59</td>\n",
       "      <td>3.52</td>\n",
       "      <td>3.70</td>\n",
       "      <td>4.36</td>\n",
       "      <td>1.48</td>\n",
       "      <td>2.87</td>\n",
       "      <td>2.99</td>\n",
       "      <td>1.11</td>\n",
       "    </tr>\n",
       "  </tbody>\n",
       "</table>\n",
       "</div>"
      ],
      "text/plain": [
       "   Year  Australia  Canada  France  Germany  Italy  Japan  Mexico  \\\n",
       "0  1990        NaN    1.87    3.63     2.65   4.59   3.16    1.00   \n",
       "1  1991       1.96    1.92    3.45     2.90   4.50   3.46    1.30   \n",
       "2  1992       1.89    1.73    3.56     3.27   4.53   3.58    1.50   \n",
       "3  1993       1.73    1.57    3.41     3.07   3.68   4.16    1.56   \n",
       "4  1994       1.84    1.45    3.59     3.52   3.70   4.36    1.48   \n",
       "\n",
       "   South Korea    UK   USA  \n",
       "0         2.05  2.82  1.16  \n",
       "1         2.49  3.01  1.14  \n",
       "2         2.65  3.06  1.13  \n",
       "3         2.88  2.84  1.11  \n",
       "4         2.87  2.99  1.11  "
      ]
     },
     "execution_count": 3,
     "metadata": {},
     "output_type": "execute_result"
    }
   ],
   "source": [
    "gas = pd.read_csv('../Data/gas_prices.csv')\n",
    "\n",
    "gas.head()"
   ]
  },
  {
   "cell_type": "code",
   "execution_count": 4,
   "metadata": {},
   "outputs": [
    {
     "data": {
      "image/png": "[encoded data removed]",
      "text/plain": [
       "<Figure size 960x600 with 1 Axes>"
      ]
     },
     "metadata": {},
     "output_type": "display_data"
    }
   ],
   "source": [
    "plt.figure(figsize=(8,5), dpi=120)\n",
    "\n",
    "plt.title('Gas Prices over Time (in USD)', fontdict={'fontname':'Arial', 'fontweight':'bold', 'fontsize':17})\n",
    "\n",
    "plt.plot(gas.Year, gas.USA, 'b.-', label='United States')\n",
    "plt.plot(gas.Year, gas.Canada, 'r.-', label='Canada')\n",
    "plt.plot(gas.Year, gas['South Korea'], 'g.-', label='South Korea')\n",
    "plt.plot(gas.Year, gas.Australia, 'y.-', label='Australia')\n",
    "\n",
    "# Another way to plot many values\n",
    "#  countries_list = ['Australia', 'Canada','USA']\n",
    "# # for country in countries_list:\n",
    "# #     if country !='Year':\n",
    "# #         plt.plot(gas.Year, gas[country], label=country, marker='.')\n",
    "\n",
    "plt.xticks(gas.Year[::3].tolist()+[2011])\n",
    "\n",
    "plt.xlabel('Year')\n",
    "plt.ylabel('US Dollars')\n",
    "\n",
    "plt.legend()\n",
    "\n",
    "plt.savefig('Gas_price_figure.png', dpi=300)\n",
    "\n",
    "plt.show()"
   ]
  },
  {
   "cell_type": "markdown",
   "metadata": {},
   "source": [
    "### FIFA Data"
   ]
  },
  {
   "cell_type": "code",
   "execution_count": 5,
   "metadata": {},
   "outputs": [],
   "source": [
    "fifa = pd.read_csv('../Data/fifa_data.csv')"
   ]
  },
  {
   "cell_type": "code",
   "execution_count": 6,
   "metadata": {},
   "outputs": [
    {
     "data": {
      "application/vnd.microsoft.datawrangler.viewer.v0+json": {
       "columns": [
        {
         "name": "index",
         "rawType": "int64",
         "type": "integer"
        },
        {
         "name": "Unnamed: 0",
         "rawType": "int64",
         "type": "integer"
        },
        {
         "name": "ID",
         "rawType": "int64",
         "type": "integer"
        },
        {
         "name": "Name",
         "rawType": "object",
         "type": "string"
        },
        {
         "name": "Age",
         "rawType": "int64",
         "type": "integer"
        },
        {
         "name": "Photo",
         "rawType": "object",
         "type": "string"
        },
        {
         "name": "Nationality",
         "rawType": "object",
         "type": "string"
        },
        {
         "name": "Flag",
         "rawType": "object",
         "type": "string"
        },
        {
         "name": "Overall",
         "rawType": "int64",
         "type": "integer"
        },
        {
         "name": "Potential",
         "rawType": "int64",
         "type": "integer"
        },
        {
         "name": "Club",
         "rawType": "object",
         "type": "string"
        },
        {
         "name": "Club Logo",
         "rawType": "object",
         "type": "string"
        },
        {
         "name": "Value",
         "rawType": "object",
         "type": "string"
        },
        {
         "name": "Wage",
         "rawType": "object",
         "type": "string"
        },
        {
         "name": "Special",
         "rawType": "int64",
         "type": "integer"
        },
        {
         "name": "Preferred Foot",
         "rawType": "object",
         "type": "string"
        },
        {
         "name": "International Reputation",
         "rawType": "float64",
         "type": "float"
        },
        {
         "name": "Weak Foot",
         "rawType": "float64",
         "type": "float"
        },
        {
         "name": "Skill Moves",
         "rawType": "float64",
         "type": "float"
        },
        {
         "name": "Work Rate",
         "rawType": "object",
         "type": "string"
        },
        {
         "name": "Body Type",
         "rawType": "object",
         "type": "string"
        },
        {
         "name": "Real Face",
         "rawType": "object",
         "type": "string"
        },
        {
         "name": "Position",
         "rawType": "object",
         "type": "string"
        },
        {
         "name": "Jersey Number",
         "rawType": "float64",
         "type": "float"
        },
        {
         "name": "Joined",
         "rawType": "object",
         "type": "string"
        },
        {
         "name": "Loaned From",
         "rawType": "object",
         "type": "unknown"
        },
        {
         "name": "Contract Valid Until",
         "rawType": "object",
         "type": "string"
        },
        {
         "name": "Height",
         "rawType": "object",
         "type": "string"
        },
        {
         "name": "Weight",
         "rawType": "object",
         "type": "string"
        },
        {
         "name": "LS",
         "rawType": "object",
         "type": "unknown"
        },
        {
         "name": "ST",
         "rawType": "object",
         "type": "unknown"
        },
        {
         "name": "RS",
         "rawType": "object",
         "type": "unknown"
        },
        {
         "name": "LW",
         "rawType": "object",
         "type": "unknown"
        },
        {
         "name": "LF",
         "rawType": "object",
         "type": "unknown"
        },
        {
         "name": "CF",
         "rawType": "object",
         "type": "unknown"
        },
        {
         "name": "RF",
         "rawType": "object",
         "type": "unknown"
        },
        {
         "name": "RW",
         "rawType": "object",
         "type": "unknown"
        },
        {
         "name": "LAM",
         "rawType": "object",
         "type": "unknown"
        },
        {
         "name": "CAM",
         "rawType": "object",
         "type": "unknown"
        },
        {
         "name": "RAM",
         "rawType": "object",
         "type": "unknown"
        },
        {
         "name": "LM",
         "rawType": "object",
         "type": "unknown"
        },
        {
         "name": "LCM",
         "rawType": "object",
         "type": "unknown"
        },
        {
         "name": "CM",
         "rawType": "object",
         "type": "unknown"
        },
        {
         "name": "RCM",
         "rawType": "object",
         "type": "unknown"
        },
        {
         "name": "RM",
         "rawType": "object",
         "type": "unknown"
        },
        {
         "name": "LWB",
         "rawType": "object",
         "type": "unknown"
        },
        {
         "name": "LDM",
         "rawType": "object",
         "type": "unknown"
        },
        {
         "name": "CDM",
         "rawType": "object",
         "type": "unknown"
        },
        {
         "name": "RDM",
         "rawType": "object",
         "type": "unknown"
        },
        {
         "name": "RWB",
         "rawType": "object",
         "type": "unknown"
        },
        {
         "name": "LB",
         "rawType": "object",
         "type": "unknown"
        },
        {
         "name": "LCB",
         "rawType": "object",
         "type": "unknown"
        },
        {
         "name": "CB",
         "rawType": "object",
         "type": "unknown"
        },
        {
         "name": "RCB",
         "rawType": "object",
         "type": "unknown"
        },
        {
         "name": "RB",
         "rawType": "object",
         "type": "unknown"
        },
        {
         "name": "Crossing",
         "rawType": "float64",
         "type": "float"
        },
        {
         "name": "Finishing",
         "rawType": "float64",
         "type": "float"
        },
        {
         "name": "HeadingAccuracy",
         "rawType": "float64",
         "type": "float"
        },
        {
         "name": "ShortPassing",
         "rawType": "float64",
         "type": "float"
        },
        {
         "name": "Volleys",
         "rawType": "float64",
         "type": "float"
        },
        {
         "name": "Dribbling",
         "rawType": "float64",
         "type": "float"
        },
        {
         "name": "Curve",
         "rawType": "float64",
         "type": "float"
        },
        {
         "name": "FKAccuracy",
         "rawType": "float64",
         "type": "float"
        },
        {
         "name": "LongPassing",
         "rawType": "float64",
         "type": "float"
        },
        {
         "name": "BallControl",
         "rawType": "float64",
         "type": "float"
        },
        {
         "name": "Acceleration",
         "rawType": "float64",
         "type": "float"
        },
        {
         "name": "SprintSpeed",
         "rawType": "float64",
         "type": "float"
        },
        {
         "name": "Agility",
         "rawType": "float64",
         "type": "float"
        },
        {
         "name": "Reactions",
         "rawType": "float64",
         "type": "float"
        },
        {
         "name": "Balance",
         "rawType": "float64",
         "type": "float"
        },
        {
         "name": "ShotPower",
         "rawType": "float64",
         "type": "float"
        },
        {
         "name": "Jumping",
         "rawType": "float64",
         "type": "float"
        },
        {
         "name": "Stamina",
         "rawType": "float64",
         "type": "float"
        },
        {
         "name": "Strength",
         "rawType": "float64",
         "type": "float"
        },
        {
         "name": "LongShots",
         "rawType": "float64",
         "type": "float"
        },
        {
         "name": "Aggression",
         "rawType": "float64",
         "type": "float"
        },
        {
         "name": "Interceptions",
         "rawType": "float64",
         "type": "float"
        },
        {
         "name": "Positioning",
         "rawType": "float64",
         "type": "float"
        },
        {
         "name": "Vision",
         "rawType": "float64",
         "type": "float"
        },
        {
         "name": "Penalties",
         "rawType": "float64",
         "type": "float"
        },
        {
         "name": "Composure",
         "rawType": "float64",
         "type": "float"
        },
        {
         "name": "Marking",
         "rawType": "float64",
         "type": "float"
        },
        {
         "name": "StandingTackle",
         "rawType": "float64",
         "type": "float"
        },
        {
         "name": "SlidingTackle",
         "rawType": "float64",
         "type": "float"
        },
        {
         "name": "GKDiving",
         "rawType": "float64",
         "type": "float"
        },
        {
         "name": "GKHandling",
         "rawType": "float64",
         "type": "float"
        },
        {
         "name": "GKKicking",
         "rawType": "float64",
         "type": "float"
        },
        {
         "name": "GKPositioning",
         "rawType": "float64",
         "type": "float"
        },
        {
         "name": "GKReflexes",
         "rawType": "float64",
         "type": "float"
        },
        {
         "name": "Release Clause",
         "rawType": "object",
         "type": "string"
        }
       ],
       "conversionMethod": "pd.DataFrame",
       "ref": "380a2141-6312-4117-8eca-ad66f96cb55c",
       "rows": [
        [
         "0",
         "0",
         "158023",
         "L. Messi",
         "31",
         "https://cdn.sofifa.org/players/4/19/158023.png",
         "Argentina",
         "https://cdn.sofifa.org/flags/52.png",
         "94",
         "94",
         "FC Barcelona",
         "https://cdn.sofifa.org/teams/2/light/241.png",
         "€110.5M",
         "€565K",
         "2202",
         "Left",
         "5.0",
         "4.0",
         "4.0",
         "Medium/ Medium",
         "Messi",
         "Yes",
         "RF",
         "10.0",
         "Jul 1, 2004",
         null,
         "2021",
         "5'7",
         "159lbs",
         "88+2",
         "88+2",
         "88+2",
         "92+2",
         "93+2",
         "93+2",
         "93+2",
         "92+2",
         "93+2",
         "93+2",
         "93+2",
         "91+2",
         "84+2",
         "84+2",
         "84+2",
         "91+2",
         "64+2",
         "61+2",
         "61+2",
         "61+2",
         "64+2",
         "59+2",
         "47+2",
         "47+2",
         "47+2",
         "59+2",
         "84.0",
         "95.0",
         "70.0",
         "90.0",
         "86.0",
         "97.0",
         "93.0",
         "94.0",
         "87.0",
         "96.0",
         "91.0",
         "86.0",
         "91.0",
         "95.0",
         "95.0",
         "85.0",
         "68.0",
         "72.0",
         "59.0",
         "94.0",
         "48.0",
         "22.0",
         "94.0",
         "94.0",
         "75.0",
         "96.0",
         "33.0",
         "28.0",
         "26.0",
         "6.0",
         "11.0",
         "15.0",
         "14.0",
         "8.0",
         "€226.5M"
        ],
        [
         "1",
         "1",
         "20801",
         "Cristiano Ronaldo",
         "33",
         "https://cdn.sofifa.org/players/4/19/20801.png",
         "Portugal",
         "https://cdn.sofifa.org/flags/38.png",
         "94",
         "94",
         "Juventus",
         "https://cdn.sofifa.org/teams/2/light/45.png",
         "€77M",
         "€405K",
         "2228",
         "Right",
         "5.0",
         "4.0",
         "5.0",
         "High/ Low",
         "C. Ronaldo",
         "Yes",
         "ST",
         "7.0",
         "Jul 10, 2018",
         null,
         "2022",
         "6'2",
         "183lbs",
         "91+3",
         "91+3",
         "91+3",
         "89+3",
         "90+3",
         "90+3",
         "90+3",
         "89+3",
         "88+3",
         "88+3",
         "88+3",
         "88+3",
         "81+3",
         "81+3",
         "81+3",
         "88+3",
         "65+3",
         "61+3",
         "61+3",
         "61+3",
         "65+3",
         "61+3",
         "53+3",
         "53+3",
         "53+3",
         "61+3",
         "84.0",
         "94.0",
         "89.0",
         "81.0",
         "87.0",
         "88.0",
         "81.0",
         "76.0",
         "77.0",
         "94.0",
         "89.0",
         "91.0",
         "87.0",
         "96.0",
         "70.0",
         "95.0",
         "95.0",
         "88.0",
         "79.0",
         "93.0",
         "63.0",
         "29.0",
         "95.0",
         "82.0",
         "85.0",
         "95.0",
         "28.0",
         "31.0",
         "23.0",
         "7.0",
         "11.0",
         "15.0",
         "14.0",
         "11.0",
         "€127.1M"
        ],
        [
         "2",
         "2",
         "190871",
         "Neymar Jr",
         "26",
         "https://cdn.sofifa.org/players/4/19/190871.png",
         "Brazil",
         "https://cdn.sofifa.org/flags/54.png",
         "92",
         "93",
         "Paris Saint-Germain",
         "https://cdn.sofifa.org/teams/2/light/73.png",
         "€118.5M",
         "€290K",
         "2143",
         "Right",
         "5.0",
         "5.0",
         "5.0",
         "High/ Medium",
         "Neymar",
         "Yes",
         "LW",
         "10.0",
         "Aug 3, 2017",
         null,
         "2022",
         "5'9",
         "150lbs",
         "84+3",
         "84+3",
         "84+3",
         "89+3",
         "89+3",
         "89+3",
         "89+3",
         "89+3",
         "89+3",
         "89+3",
         "89+3",
         "88+3",
         "81+3",
         "81+3",
         "81+3",
         "88+3",
         "65+3",
         "60+3",
         "60+3",
         "60+3",
         "65+3",
         "60+3",
         "47+3",
         "47+3",
         "47+3",
         "60+3",
         "79.0",
         "87.0",
         "62.0",
         "84.0",
         "84.0",
         "96.0",
         "88.0",
         "87.0",
         "78.0",
         "95.0",
         "94.0",
         "90.0",
         "96.0",
         "94.0",
         "84.0",
         "80.0",
         "61.0",
         "81.0",
         "49.0",
         "82.0",
         "56.0",
         "36.0",
         "89.0",
         "87.0",
         "81.0",
         "94.0",
         "27.0",
         "24.0",
         "33.0",
         "9.0",
         "9.0",
         "15.0",
         "15.0",
         "11.0",
         "€228.1M"
        ],
        [
         "3",
         "3",
         "193080",
         "De Gea",
         "27",
         "https://cdn.sofifa.org/players/4/19/193080.png",
         "Spain",
         "https://cdn.sofifa.org/flags/45.png",
         "91",
         "93",
         "Manchester United",
         "https://cdn.sofifa.org/teams/2/light/11.png",
         "€72M",
         "€260K",
         "1471",
         "Right",
         "4.0",
         "3.0",
         "1.0",
         "Medium/ Medium",
         "Lean",
         "Yes",
         "GK",
         "1.0",
         "Jul 1, 2011",
         null,
         "2020",
         "6'4",
         "168lbs",
         null,
         null,
         null,
         null,
         null,
         null,
         null,
         null,
         null,
         null,
         null,
         null,
         null,
         null,
         null,
         null,
         null,
         null,
         null,
         null,
         null,
         null,
         null,
         null,
         null,
         null,
         "17.0",
         "13.0",
         "21.0",
         "50.0",
         "13.0",
         "18.0",
         "21.0",
         "19.0",
         "51.0",
         "42.0",
         "57.0",
         "58.0",
         "60.0",
         "90.0",
         "43.0",
         "31.0",
         "67.0",
         "43.0",
         "64.0",
         "12.0",
         "38.0",
         "30.0",
         "12.0",
         "68.0",
         "40.0",
         "68.0",
         "15.0",
         "21.0",
         "13.0",
         "90.0",
         "85.0",
         "87.0",
         "88.0",
         "94.0",
         "€138.6M"
        ],
        [
         "4",
         "4",
         "192985",
         "K. De Bruyne",
         "27",
         "https://cdn.sofifa.org/players/4/19/192985.png",
         "Belgium",
         "https://cdn.sofifa.org/flags/7.png",
         "91",
         "92",
         "Manchester City",
         "https://cdn.sofifa.org/teams/2/light/10.png",
         "€102M",
         "€355K",
         "2281",
         "Right",
         "4.0",
         "5.0",
         "4.0",
         "High/ High",
         "Normal",
         "Yes",
         "RCM",
         "7.0",
         "Aug 30, 2015",
         null,
         "2023",
         "5'11",
         "154lbs",
         "82+3",
         "82+3",
         "82+3",
         "87+3",
         "87+3",
         "87+3",
         "87+3",
         "87+3",
         "88+3",
         "88+3",
         "88+3",
         "88+3",
         "87+3",
         "87+3",
         "87+3",
         "88+3",
         "77+3",
         "77+3",
         "77+3",
         "77+3",
         "77+3",
         "73+3",
         "66+3",
         "66+3",
         "66+3",
         "73+3",
         "93.0",
         "82.0",
         "55.0",
         "92.0",
         "82.0",
         "86.0",
         "85.0",
         "83.0",
         "91.0",
         "91.0",
         "78.0",
         "76.0",
         "79.0",
         "91.0",
         "77.0",
         "91.0",
         "63.0",
         "90.0",
         "75.0",
         "91.0",
         "76.0",
         "61.0",
         "87.0",
         "94.0",
         "79.0",
         "88.0",
         "68.0",
         "58.0",
         "51.0",
         "15.0",
         "13.0",
         "5.0",
         "10.0",
         "13.0",
         "€196.4M"
        ]
       ],
       "shape": {
        "columns": 89,
        "rows": 5
       }
      },
      "text/html": [
       "<div>\n",
       "<style scoped>\n",
       "    .dataframe tbody tr th:only-of-type {\n",
       "        vertical-align: middle;\n",
       "    }\n",
       "\n",
       "    .dataframe tbody tr th {\n",
       "        vertical-align: top;\n",
       "    }\n",
       "\n",
       "    .dataframe thead th {\n",
       "        text-align: right;\n",
       "    }\n",
       "</style>\n",
       "<table border=\"1\" class=\"dataframe\">\n",
       "  <thead>\n",
       "    <tr style=\"text-align: right;\">\n",
       "      <th></th>\n",
       "      <th>Unnamed: 0</th>\n",
       "      <th>ID</th>\n",
       "      <th>Name</th>\n",
       "      <th>Age</th>\n",
       "      <th>Photo</th>\n",
       "      <th>Nationality</th>\n",
       "      <th>Flag</th>\n",
       "      <th>Overall</th>\n",
       "      <th>Potential</th>\n",
       "      <th>Club</th>\n",
       "      <th>...</th>\n",
       "      <th>Composure</th>\n",
       "      <th>Marking</th>\n",
       "      <th>StandingTackle</th>\n",
       "      <th>SlidingTackle</th>\n",
       "      <th>GKDiving</th>\n",
       "      <th>GKHandling</th>\n",
       "      <th>GKKicking</th>\n",
       "      <th>GKPositioning</th>\n",
       "      <th>GKReflexes</th>\n",
       "      <th>Release Clause</th>\n",
       "    </tr>\n",
       "  </thead>\n",
       "  <tbody>\n",
       "    <tr>\n",
       "      <th>0</th>\n",
       "      <td>0</td>\n",
       "      <td>158023</td>\n",
       "      <td>L. Messi</td>\n",
       "      <td>31</td>\n",
       "      <td>https://cdn.sofifa.org/players/4/19/158023.png</td>\n",
       "      <td>Argentina</td>\n",
       "      <td>https://cdn.sofifa.org/flags/52.png</td>\n",
       "      <td>94</td>\n",
       "      <td>94</td>\n",
       "      <td>FC Barcelona</td>\n",
       "      <td>...</td>\n",
       "      <td>96.0</td>\n",
       "      <td>33.0</td>\n",
       "      <td>28.0</td>\n",
       "      <td>26.0</td>\n",
       "      <td>6.0</td>\n",
       "      <td>11.0</td>\n",
       "      <td>15.0</td>\n",
       "      <td>14.0</td>\n",
       "      <td>8.0</td>\n",
       "      <td>€226.5M</td>\n",
       "    </tr>\n",
       "    <tr>\n",
       "      <th>1</th>\n",
       "      <td>1</td>\n",
       "      <td>20801</td>\n",
       "      <td>Cristiano Ronaldo</td>\n",
       "      <td>33</td>\n",
       "      <td>https://cdn.sofifa.org/players/4/19/20801.png</td>\n",
       "      <td>Portugal</td>\n",
       "      <td>https://cdn.sofifa.org/flags/38.png</td>\n",
       "      <td>94</td>\n",
       "      <td>94</td>\n",
       "      <td>Juventus</td>\n",
       "      <td>...</td>\n",
       "      <td>95.0</td>\n",
       "      <td>28.0</td>\n",
       "      <td>31.0</td>\n",
       "      <td>23.0</td>\n",
       "      <td>7.0</td>\n",
       "      <td>11.0</td>\n",
       "      <td>15.0</td>\n",
       "      <td>14.0</td>\n",
       "      <td>11.0</td>\n",
       "      <td>€127.1M</td>\n",
       "    </tr>\n",
       "    <tr>\n",
       "      <th>2</th>\n",
       "      <td>2</td>\n",
       "      <td>190871</td>\n",
       "      <td>Neymar Jr</td>\n",
       "      <td>26</td>\n",
       "      <td>https://cdn.sofifa.org/players/4/19/190871.png</td>\n",
       "      <td>Brazil</td>\n",
       "      <td>https://cdn.sofifa.org/flags/54.png</td>\n",
       "      <td>92</td>\n",
       "      <td>93</td>\n",
       "      <td>Paris Saint-Germain</td>\n",
       "      <td>...</td>\n",
       "      <td>94.0</td>\n",
       "      <td>27.0</td>\n",
       "      <td>24.0</td>\n",
       "      <td>33.0</td>\n",
       "      <td>9.0</td>\n",
       "      <td>9.0</td>\n",
       "      <td>15.0</td>\n",
       "      <td>15.0</td>\n",
       "      <td>11.0</td>\n",
       "      <td>€228.1M</td>\n",
       "    </tr>\n",
       "    <tr>\n",
       "      <th>3</th>\n",
       "      <td>3</td>\n",
       "      <td>193080</td>\n",
       "      <td>De Gea</td>\n",
       "      <td>27</td>\n",
       "      <td>https://cdn.sofifa.org/players/4/19/193080.png</td>\n",
       "      <td>Spain</td>\n",
       "      <td>https://cdn.sofifa.org/flags/45.png</td>\n",
       "      <td>91</td>\n",
       "      <td>93</td>\n",
       "      <td>Manchester United</td>\n",
       "      <td>...</td>\n",
       "      <td>68.0</td>\n",
       "      <td>15.0</td>\n",
       "      <td>21.0</td>\n",
       "      <td>13.0</td>\n",
       "      <td>90.0</td>\n",
       "      <td>85.0</td>\n",
       "      <td>87.0</td>\n",
       "      <td>88.0</td>\n",
       "      <td>94.0</td>\n",
       "      <td>€138.6M</td>\n",
       "    </tr>\n",
       "    <tr>\n",
       "      <th>4</th>\n",
       "      <td>4</td>\n",
       "      <td>192985</td>\n",
       "      <td>K. De Bruyne</td>\n",
       "      <td>27</td>\n",
       "      <td>https://cdn.sofifa.org/players/4/19/192985.png</td>\n",
       "      <td>Belgium</td>\n",
       "      <td>https://cdn.sofifa.org/flags/7.png</td>\n",
       "      <td>91</td>\n",
       "      <td>92</td>\n",
       "      <td>Manchester City</td>\n",
       "      <td>...</td>\n",
       "      <td>88.0</td>\n",
       "      <td>68.0</td>\n",
       "      <td>58.0</td>\n",
       "      <td>51.0</td>\n",
       "      <td>15.0</td>\n",
       "      <td>13.0</td>\n",
       "      <td>5.0</td>\n",
       "      <td>10.0</td>\n",
       "      <td>13.0</td>\n",
       "      <td>€196.4M</td>\n",
       "    </tr>\n",
       "  </tbody>\n",
       "</table>\n",
       "<p>5 rows × 89 columns</p>\n",
       "</div>"
      ],
      "text/plain": [
       "   Unnamed: 0      ID               Name  Age  \\\n",
       "0           0  158023           L. Messi   31   \n",
       "1           1   20801  Cristiano Ronaldo   33   \n",
       "2           2  190871          Neymar Jr   26   \n",
       "3           3  193080             De Gea   27   \n",
       "4           4  192985       K. De Bruyne   27   \n",
       "\n",
       "                                            Photo Nationality  \\\n",
       "0  https://cdn.sofifa.org/players/4/19/158023.png   Argentina   \n",
       "1   https://cdn.sofifa.org/players/4/19/20801.png    Portugal   \n",
       "2  https://cdn.sofifa.org/players/4/19/190871.png      Brazil   \n",
       "3  https://cdn.sofifa.org/players/4/19/193080.png       Spain   \n",
       "4  https://cdn.sofifa.org/players/4/19/192985.png     Belgium   \n",
       "\n",
       "                                  Flag  Overall  Potential  \\\n",
       "0  https://cdn.sofifa.org/flags/52.png       94         94   \n",
       "1  https://cdn.sofifa.org/flags/38.png       94         94   \n",
       "2  https://cdn.sofifa.org/flags/54.png       92         93   \n",
       "3  https://cdn.sofifa.org/flags/45.png       91         93   \n",
       "4   https://cdn.sofifa.org/flags/7.png       91         92   \n",
       "\n",
       "                  Club  ... Composure Marking StandingTackle  SlidingTackle  \\\n",
       "0         FC Barcelona  ...      96.0    33.0           28.0           26.0   \n",
       "1             Juventus  ...      95.0    28.0           31.0           23.0   \n",
       "2  Paris Saint-Germain  ...      94.0    27.0           24.0           33.0   \n",
       "3    Manchester United  ...      68.0    15.0           21.0           13.0   \n",
       "4      Manchester City  ...      88.0    68.0           58.0           51.0   \n",
       "\n",
       "  GKDiving  GKHandling  GKKicking  GKPositioning GKReflexes Release Clause  \n",
       "0      6.0        11.0       15.0           14.0        8.0        €226.5M  \n",
       "1      7.0        11.0       15.0           14.0       11.0        €127.1M  \n",
       "2      9.0         9.0       15.0           15.0       11.0        €228.1M  \n",
       "3     90.0        85.0       87.0           88.0       94.0        €138.6M  \n",
       "4     15.0        13.0        5.0           10.0       13.0        €196.4M  \n",
       "\n",
       "[5 rows x 89 columns]"
      ]
     },
     "execution_count": 6,
     "metadata": {},
     "output_type": "execute_result"
    }
   ],
   "source": [
    "fifa.head()"
   ]
  },
  {
   "cell_type": "markdown",
   "metadata": {},
   "source": [
    "### Histograms"
   ]
  },
  {
   "cell_type": "code",
   "execution_count": 7,
   "metadata": {},
   "outputs": [
    {
     "data": {
      "image/png": "[encoded data removed]",
      "text/plain": [
       "<Figure size 640x480 with 1 Axes>"
      ]
     },
     "metadata": {},
     "output_type": "display_data"
    }
   ],
   "source": [
    "bins = [40,50,60,70,80,90,100]\n",
    "\n",
    "plt.hist(fifa.Overall, bins=bins, color='#abcdef')\n",
    "\n",
    "plt.xticks(bins)\n",
    "\n",
    "plt.ylabel('Number of Players')\n",
    "plt.xlabel('Skill Level')\n",
    "plt.title('Distribution of Player Skills in FIFA 2018')\n",
    "\n",
    "plt.show()"
   ]
  },
  {
   "cell_type": "markdown",
   "metadata": {},
   "source": [
    "### Pie Charts"
   ]
  },
  {
   "cell_type": "code",
   "execution_count": 8,
   "metadata": {},
   "outputs": [
    {
     "data": {
      "application/vnd.microsoft.datawrangler.viewer.v0+json": {
       "columns": [
        {
         "name": "index",
         "rawType": "int64",
         "type": "integer"
        },
        {
         "name": "Unnamed: 0",
         "rawType": "int64",
         "type": "integer"
        },
        {
         "name": "ID",
         "rawType": "int64",
         "type": "integer"
        },
        {
         "name": "Name",
         "rawType": "object",
         "type": "string"
        },
        {
         "name": "Age",
         "rawType": "int64",
         "type": "integer"
        },
        {
         "name": "Photo",
         "rawType": "object",
         "type": "string"
        },
        {
         "name": "Nationality",
         "rawType": "object",
         "type": "string"
        },
        {
         "name": "Flag",
         "rawType": "object",
         "type": "string"
        },
        {
         "name": "Overall",
         "rawType": "int64",
         "type": "integer"
        },
        {
         "name": "Potential",
         "rawType": "int64",
         "type": "integer"
        },
        {
         "name": "Club",
         "rawType": "object",
         "type": "string"
        },
        {
         "name": "Club Logo",
         "rawType": "object",
         "type": "string"
        },
        {
         "name": "Value",
         "rawType": "object",
         "type": "string"
        },
        {
         "name": "Wage",
         "rawType": "object",
         "type": "string"
        },
        {
         "name": "Special",
         "rawType": "int64",
         "type": "integer"
        },
        {
         "name": "Preferred Foot",
         "rawType": "object",
         "type": "string"
        },
        {
         "name": "International Reputation",
         "rawType": "float64",
         "type": "float"
        },
        {
         "name": "Weak Foot",
         "rawType": "float64",
         "type": "float"
        },
        {
         "name": "Skill Moves",
         "rawType": "float64",
         "type": "float"
        },
        {
         "name": "Work Rate",
         "rawType": "object",
         "type": "string"
        },
        {
         "name": "Body Type",
         "rawType": "object",
         "type": "string"
        },
        {
         "name": "Real Face",
         "rawType": "object",
         "type": "string"
        },
        {
         "name": "Position",
         "rawType": "object",
         "type": "string"
        },
        {
         "name": "Jersey Number",
         "rawType": "float64",
         "type": "float"
        },
        {
         "name": "Joined",
         "rawType": "object",
         "type": "string"
        },
        {
         "name": "Loaned From",
         "rawType": "object",
         "type": "unknown"
        },
        {
         "name": "Contract Valid Until",
         "rawType": "object",
         "type": "string"
        },
        {
         "name": "Height",
         "rawType": "object",
         "type": "string"
        },
        {
         "name": "Weight",
         "rawType": "object",
         "type": "string"
        },
        {
         "name": "LS",
         "rawType": "object",
         "type": "unknown"
        },
        {
         "name": "ST",
         "rawType": "object",
         "type": "unknown"
        },
        {
         "name": "RS",
         "rawType": "object",
         "type": "unknown"
        },
        {
         "name": "LW",
         "rawType": "object",
         "type": "unknown"
        },
        {
         "name": "LF",
         "rawType": "object",
         "type": "unknown"
        },
        {
         "name": "CF",
         "rawType": "object",
         "type": "unknown"
        },
        {
         "name": "RF",
         "rawType": "object",
         "type": "unknown"
        },
        {
         "name": "RW",
         "rawType": "object",
         "type": "unknown"
        },
        {
         "name": "LAM",
         "rawType": "object",
         "type": "unknown"
        },
        {
         "name": "CAM",
         "rawType": "object",
         "type": "unknown"
        },
        {
         "name": "RAM",
         "rawType": "object",
         "type": "unknown"
        },
        {
         "name": "LM",
         "rawType": "object",
         "type": "unknown"
        },
        {
         "name": "LCM",
         "rawType": "object",
         "type": "unknown"
        },
        {
         "name": "CM",
         "rawType": "object",
         "type": "unknown"
        },
        {
         "name": "RCM",
         "rawType": "object",
         "type": "unknown"
        },
        {
         "name": "RM",
         "rawType": "object",
         "type": "unknown"
        },
        {
         "name": "LWB",
         "rawType": "object",
         "type": "unknown"
        },
        {
         "name": "LDM",
         "rawType": "object",
         "type": "unknown"
        },
        {
         "name": "CDM",
         "rawType": "object",
         "type": "unknown"
        },
        {
         "name": "RDM",
         "rawType": "object",
         "type": "unknown"
        },
        {
         "name": "RWB",
         "rawType": "object",
         "type": "unknown"
        },
        {
         "name": "LB",
         "rawType": "object",
         "type": "unknown"
        },
        {
         "name": "LCB",
         "rawType": "object",
         "type": "unknown"
        },
        {
         "name": "CB",
         "rawType": "object",
         "type": "unknown"
        },
        {
         "name": "RCB",
         "rawType": "object",
         "type": "unknown"
        },
        {
         "name": "RB",
         "rawType": "object",
         "type": "unknown"
        },
        {
         "name": "Crossing",
         "rawType": "float64",
         "type": "float"
        },
        {
         "name": "Finishing",
         "rawType": "float64",
         "type": "float"
        },
        {
         "name": "HeadingAccuracy",
         "rawType": "float64",
         "type": "float"
        },
        {
         "name": "ShortPassing",
         "rawType": "float64",
         "type": "float"
        },
        {
         "name": "Volleys",
         "rawType": "float64",
         "type": "float"
        },
        {
         "name": "Dribbling",
         "rawType": "float64",
         "type": "float"
        },
        {
         "name": "Curve",
         "rawType": "float64",
         "type": "float"
        },
        {
         "name": "FKAccuracy",
         "rawType": "float64",
         "type": "float"
        },
        {
         "name": "LongPassing",
         "rawType": "float64",
         "type": "float"
        },
        {
         "name": "BallControl",
         "rawType": "float64",
         "type": "float"
        },
        {
         "name": "Acceleration",
         "rawType": "float64",
         "type": "float"
        },
        {
         "name": "SprintSpeed",
         "rawType": "float64",
         "type": "float"
        },
        {
         "name": "Agility",
         "rawType": "float64",
         "type": "float"
        },
        {
         "name": "Reactions",
         "rawType": "float64",
         "type": "float"
        },
        {
         "name": "Balance",
         "rawType": "float64",
         "type": "float"
        },
        {
         "name": "ShotPower",
         "rawType": "float64",
         "type": "float"
        },
        {
         "name": "Jumping",
         "rawType": "float64",
         "type": "float"
        },
        {
         "name": "Stamina",
         "rawType": "float64",
         "type": "float"
        },
        {
         "name": "Strength",
         "rawType": "float64",
         "type": "float"
        },
        {
         "name": "LongShots",
         "rawType": "float64",
         "type": "float"
        },
        {
         "name": "Aggression",
         "rawType": "float64",
         "type": "float"
        },
        {
         "name": "Interceptions",
         "rawType": "float64",
         "type": "float"
        },
        {
         "name": "Positioning",
         "rawType": "float64",
         "type": "float"
        },
        {
         "name": "Vision",
         "rawType": "float64",
         "type": "float"
        },
        {
         "name": "Penalties",
         "rawType": "float64",
         "type": "float"
        },
        {
         "name": "Composure",
         "rawType": "float64",
         "type": "float"
        },
        {
         "name": "Marking",
         "rawType": "float64",
         "type": "float"
        },
        {
         "name": "StandingTackle",
         "rawType": "float64",
         "type": "float"
        },
        {
         "name": "SlidingTackle",
         "rawType": "float64",
         "type": "float"
        },
        {
         "name": "GKDiving",
         "rawType": "float64",
         "type": "float"
        },
        {
         "name": "GKHandling",
         "rawType": "float64",
         "type": "float"
        },
        {
         "name": "GKKicking",
         "rawType": "float64",
         "type": "float"
        },
        {
         "name": "GKPositioning",
         "rawType": "float64",
         "type": "float"
        },
        {
         "name": "GKReflexes",
         "rawType": "float64",
         "type": "float"
        },
        {
         "name": "Release Clause",
         "rawType": "object",
         "type": "string"
        }
       ],
       "conversionMethod": "pd.DataFrame",
       "ref": "adb687c4-d4ce-494b-9c0c-3bb89e837298",
       "rows": [
        [
         "0",
         "0",
         "158023",
         "L. Messi",
         "31",
         "https://cdn.sofifa.org/players/4/19/158023.png",
         "Argentina",
         "https://cdn.sofifa.org/flags/52.png",
         "94",
         "94",
         "FC Barcelona",
         "https://cdn.sofifa.org/teams/2/light/241.png",
         "€110.5M",
         "€565K",
         "2202",
         "Left",
         "5.0",
         "4.0",
         "4.0",
         "Medium/ Medium",
         "Messi",
         "Yes",
         "RF",
         "10.0",
         "Jul 1, 2004",
         null,
         "2021",
         "5'7",
         "159lbs",
         "88+2",
         "88+2",
         "88+2",
         "92+2",
         "93+2",
         "93+2",
         "93+2",
         "92+2",
         "93+2",
         "93+2",
         "93+2",
         "91+2",
         "84+2",
         "84+2",
         "84+2",
         "91+2",
         "64+2",
         "61+2",
         "61+2",
         "61+2",
         "64+2",
         "59+2",
         "47+2",
         "47+2",
         "47+2",
         "59+2",
         "84.0",
         "95.0",
         "70.0",
         "90.0",
         "86.0",
         "97.0",
         "93.0",
         "94.0",
         "87.0",
         "96.0",
         "91.0",
         "86.0",
         "91.0",
         "95.0",
         "95.0",
         "85.0",
         "68.0",
         "72.0",
         "59.0",
         "94.0",
         "48.0",
         "22.0",
         "94.0",
         "94.0",
         "75.0",
         "96.0",
         "33.0",
         "28.0",
         "26.0",
         "6.0",
         "11.0",
         "15.0",
         "14.0",
         "8.0",
         "€226.5M"
        ],
        [
         "1",
         "1",
         "20801",
         "Cristiano Ronaldo",
         "33",
         "https://cdn.sofifa.org/players/4/19/20801.png",
         "Portugal",
         "https://cdn.sofifa.org/flags/38.png",
         "94",
         "94",
         "Juventus",
         "https://cdn.sofifa.org/teams/2/light/45.png",
         "€77M",
         "€405K",
         "2228",
         "Right",
         "5.0",
         "4.0",
         "5.0",
         "High/ Low",
         "C. Ronaldo",
         "Yes",
         "ST",
         "7.0",
         "Jul 10, 2018",
         null,
         "2022",
         "6'2",
         "183lbs",
         "91+3",
         "91+3",
         "91+3",
         "89+3",
         "90+3",
         "90+3",
         "90+3",
         "89+3",
         "88+3",
         "88+3",
         "88+3",
         "88+3",
         "81+3",
         "81+3",
         "81+3",
         "88+3",
         "65+3",
         "61+3",
         "61+3",
         "61+3",
         "65+3",
         "61+3",
         "53+3",
         "53+3",
         "53+3",
         "61+3",
         "84.0",
         "94.0",
         "89.0",
         "81.0",
         "87.0",
         "88.0",
         "81.0",
         "76.0",
         "77.0",
         "94.0",
         "89.0",
         "91.0",
         "87.0",
         "96.0",
         "70.0",
         "95.0",
         "95.0",
         "88.0",
         "79.0",
         "93.0",
         "63.0",
         "29.0",
         "95.0",
         "82.0",
         "85.0",
         "95.0",
         "28.0",
         "31.0",
         "23.0",
         "7.0",
         "11.0",
         "15.0",
         "14.0",
         "11.0",
         "€127.1M"
        ],
        [
         "2",
         "2",
         "190871",
         "Neymar Jr",
         "26",
         "https://cdn.sofifa.org/players/4/19/190871.png",
         "Brazil",
         "https://cdn.sofifa.org/flags/54.png",
         "92",
         "93",
         "Paris Saint-Germain",
         "https://cdn.sofifa.org/teams/2/light/73.png",
         "€118.5M",
         "€290K",
         "2143",
         "Right",
         "5.0",
         "5.0",
         "5.0",
         "High/ Medium",
         "Neymar",
         "Yes",
         "LW",
         "10.0",
         "Aug 3, 2017",
         null,
         "2022",
         "5'9",
         "150lbs",
         "84+3",
         "84+3",
         "84+3",
         "89+3",
         "89+3",
         "89+3",
         "89+3",
         "89+3",
         "89+3",
         "89+3",
         "89+3",
         "88+3",
         "81+3",
         "81+3",
         "81+3",
         "88+3",
         "65+3",
         "60+3",
         "60+3",
         "60+3",
         "65+3",
         "60+3",
         "47+3",
         "47+3",
         "47+3",
         "60+3",
         "79.0",
         "87.0",
         "62.0",
         "84.0",
         "84.0",
         "96.0",
         "88.0",
         "87.0",
         "78.0",
         "95.0",
         "94.0",
         "90.0",
         "96.0",
         "94.0",
         "84.0",
         "80.0",
         "61.0",
         "81.0",
         "49.0",
         "82.0",
         "56.0",
         "36.0",
         "89.0",
         "87.0",
         "81.0",
         "94.0",
         "27.0",
         "24.0",
         "33.0",
         "9.0",
         "9.0",
         "15.0",
         "15.0",
         "11.0",
         "€228.1M"
        ],
        [
         "3",
         "3",
         "193080",
         "De Gea",
         "27",
         "https://cdn.sofifa.org/players/4/19/193080.png",
         "Spain",
         "https://cdn.sofifa.org/flags/45.png",
         "91",
         "93",
         "Manchester United",
         "https://cdn.sofifa.org/teams/2/light/11.png",
         "€72M",
         "€260K",
         "1471",
         "Right",
         "4.0",
         "3.0",
         "1.0",
         "Medium/ Medium",
         "Lean",
         "Yes",
         "GK",
         "1.0",
         "Jul 1, 2011",
         null,
         "2020",
         "6'4",
         "168lbs",
         null,
         null,
         null,
         null,
         null,
         null,
         null,
         null,
         null,
         null,
         null,
         null,
         null,
         null,
         null,
         null,
         null,
         null,
         null,
         null,
         null,
         null,
         null,
         null,
         null,
         null,
         "17.0",
         "13.0",
         "21.0",
         "50.0",
         "13.0",
         "18.0",
         "21.0",
         "19.0",
         "51.0",
         "42.0",
         "57.0",
         "58.0",
         "60.0",
         "90.0",
         "43.0",
         "31.0",
         "67.0",
         "43.0",
         "64.0",
         "12.0",
         "38.0",
         "30.0",
         "12.0",
         "68.0",
         "40.0",
         "68.0",
         "15.0",
         "21.0",
         "13.0",
         "90.0",
         "85.0",
         "87.0",
         "88.0",
         "94.0",
         "€138.6M"
        ],
        [
         "4",
         "4",
         "192985",
         "K. De Bruyne",
         "27",
         "https://cdn.sofifa.org/players/4/19/192985.png",
         "Belgium",
         "https://cdn.sofifa.org/flags/7.png",
         "91",
         "92",
         "Manchester City",
         "https://cdn.sofifa.org/teams/2/light/10.png",
         "€102M",
         "€355K",
         "2281",
         "Right",
         "4.0",
         "5.0",
         "4.0",
         "High/ High",
         "Normal",
         "Yes",
         "RCM",
         "7.0",
         "Aug 30, 2015",
         null,
         "2023",
         "5'11",
         "154lbs",
         "82+3",
         "82+3",
         "82+3",
         "87+3",
         "87+3",
         "87+3",
         "87+3",
         "87+3",
         "88+3",
         "88+3",
         "88+3",
         "88+3",
         "87+3",
         "87+3",
         "87+3",
         "88+3",
         "77+3",
         "77+3",
         "77+3",
         "77+3",
         "77+3",
         "73+3",
         "66+3",
         "66+3",
         "66+3",
         "73+3",
         "93.0",
         "82.0",
         "55.0",
         "92.0",
         "82.0",
         "86.0",
         "85.0",
         "83.0",
         "91.0",
         "91.0",
         "78.0",
         "76.0",
         "79.0",
         "91.0",
         "77.0",
         "91.0",
         "63.0",
         "90.0",
         "75.0",
         "91.0",
         "76.0",
         "61.0",
         "87.0",
         "94.0",
         "79.0",
         "88.0",
         "68.0",
         "58.0",
         "51.0",
         "15.0",
         "13.0",
         "5.0",
         "10.0",
         "13.0",
         "€196.4M"
        ]
       ],
       "shape": {
        "columns": 89,
        "rows": 5
       }
      },
      "text/html": [
       "<div>\n",
       "<style scoped>\n",
       "    .dataframe tbody tr th:only-of-type {\n",
       "        vertical-align: middle;\n",
       "    }\n",
       "\n",
       "    .dataframe tbody tr th {\n",
       "        vertical-align: top;\n",
       "    }\n",
       "\n",
       "    .dataframe thead th {\n",
       "        text-align: right;\n",
       "    }\n",
       "</style>\n",
       "<table border=\"1\" class=\"dataframe\">\n",
       "  <thead>\n",
       "    <tr style=\"text-align: right;\">\n",
       "      <th></th>\n",
       "      <th>Unnamed: 0</th>\n",
       "      <th>ID</th>\n",
       "      <th>Name</th>\n",
       "      <th>Age</th>\n",
       "      <th>Photo</th>\n",
       "      <th>Nationality</th>\n",
       "      <th>Flag</th>\n",
       "      <th>Overall</th>\n",
       "      <th>Potential</th>\n",
       "      <th>Club</th>\n",
       "      <th>...</th>\n",
       "      <th>Composure</th>\n",
       "      <th>Marking</th>\n",
       "      <th>StandingTackle</th>\n",
       "      <th>SlidingTackle</th>\n",
       "      <th>GKDiving</th>\n",
       "      <th>GKHandling</th>\n",
       "      <th>GKKicking</th>\n",
       "      <th>GKPositioning</th>\n",
       "      <th>GKReflexes</th>\n",
       "      <th>Release Clause</th>\n",
       "    </tr>\n",
       "  </thead>\n",
       "  <tbody>\n",
       "    <tr>\n",
       "      <th>0</th>\n",
       "      <td>0</td>\n",
       "      <td>158023</td>\n",
       "      <td>L. Messi</td>\n",
       "      <td>31</td>\n",
       "      <td>https://cdn.sofifa.org/players/4/19/158023.png</td>\n",
       "      <td>Argentina</td>\n",
       "      <td>https://cdn.sofifa.org/flags/52.png</td>\n",
       "      <td>94</td>\n",
       "      <td>94</td>\n",
       "      <td>FC Barcelona</td>\n",
       "      <td>...</td>\n",
       "      <td>96.0</td>\n",
       "      <td>33.0</td>\n",
       "      <td>28.0</td>\n",
       "      <td>26.0</td>\n",
       "      <td>6.0</td>\n",
       "      <td>11.0</td>\n",
       "      <td>15.0</td>\n",
       "      <td>14.0</td>\n",
       "      <td>8.0</td>\n",
       "      <td>€226.5M</td>\n",
       "    </tr>\n",
       "    <tr>\n",
       "      <th>1</th>\n",
       "      <td>1</td>\n",
       "      <td>20801</td>\n",
       "      <td>Cristiano Ronaldo</td>\n",
       "      <td>33</td>\n",
       "      <td>https://cdn.sofifa.org/players/4/19/20801.png</td>\n",
       "      <td>Portugal</td>\n",
       "      <td>https://cdn.sofifa.org/flags/38.png</td>\n",
       "      <td>94</td>\n",
       "      <td>94</td>\n",
       "      <td>Juventus</td>\n",
       "      <td>...</td>\n",
       "      <td>95.0</td>\n",
       "      <td>28.0</td>\n",
       "      <td>31.0</td>\n",
       "      <td>23.0</td>\n",
       "      <td>7.0</td>\n",
       "      <td>11.0</td>\n",
       "      <td>15.0</td>\n",
       "      <td>14.0</td>\n",
       "      <td>11.0</td>\n",
       "      <td>€127.1M</td>\n",
       "    </tr>\n",
       "    <tr>\n",
       "      <th>2</th>\n",
       "      <td>2</td>\n",
       "      <td>190871</td>\n",
       "      <td>Neymar Jr</td>\n",
       "      <td>26</td>\n",
       "      <td>https://cdn.sofifa.org/players/4/19/190871.png</td>\n",
       "      <td>Brazil</td>\n",
       "      <td>https://cdn.sofifa.org/flags/54.png</td>\n",
       "      <td>92</td>\n",
       "      <td>93</td>\n",
       "      <td>Paris Saint-Germain</td>\n",
       "      <td>...</td>\n",
       "      <td>94.0</td>\n",
       "      <td>27.0</td>\n",
       "      <td>24.0</td>\n",
       "      <td>33.0</td>\n",
       "      <td>9.0</td>\n",
       "      <td>9.0</td>\n",
       "      <td>15.0</td>\n",
       "      <td>15.0</td>\n",
       "      <td>11.0</td>\n",
       "      <td>€228.1M</td>\n",
       "    </tr>\n",
       "    <tr>\n",
       "      <th>3</th>\n",
       "      <td>3</td>\n",
       "      <td>193080</td>\n",
       "      <td>De Gea</td>\n",
       "      <td>27</td>\n",
       "      <td>https://cdn.sofifa.org/players/4/19/193080.png</td>\n",
       "      <td>Spain</td>\n",
       "      <td>https://cdn.sofifa.org/flags/45.png</td>\n",
       "      <td>91</td>\n",
       "      <td>93</td>\n",
       "      <td>Manchester United</td>\n",
       "      <td>...</td>\n",
       "      <td>68.0</td>\n",
       "      <td>15.0</td>\n",
       "      <td>21.0</td>\n",
       "      <td>13.0</td>\n",
       "      <td>90.0</td>\n",
       "      <td>85.0</td>\n",
       "      <td>87.0</td>\n",
       "      <td>88.0</td>\n",
       "      <td>94.0</td>\n",
       "      <td>€138.6M</td>\n",
       "    </tr>\n",
       "    <tr>\n",
       "      <th>4</th>\n",
       "      <td>4</td>\n",
       "      <td>192985</td>\n",
       "      <td>K. De Bruyne</td>\n",
       "      <td>27</td>\n",
       "      <td>https://cdn.sofifa.org/players/4/19/192985.png</td>\n",
       "      <td>Belgium</td>\n",
       "      <td>https://cdn.sofifa.org/flags/7.png</td>\n",
       "      <td>91</td>\n",
       "      <td>92</td>\n",
       "      <td>Manchester City</td>\n",
       "      <td>...</td>\n",
       "      <td>88.0</td>\n",
       "      <td>68.0</td>\n",
       "      <td>58.0</td>\n",
       "      <td>51.0</td>\n",
       "      <td>15.0</td>\n",
       "      <td>13.0</td>\n",
       "      <td>5.0</td>\n",
       "      <td>10.0</td>\n",
       "      <td>13.0</td>\n",
       "      <td>€196.4M</td>\n",
       "    </tr>\n",
       "  </tbody>\n",
       "</table>\n",
       "<p>5 rows × 89 columns</p>\n",
       "</div>"
      ],
      "text/plain": [
       "   Unnamed: 0      ID               Name  Age  \\\n",
       "0           0  158023           L. Messi   31   \n",
       "1           1   20801  Cristiano Ronaldo   33   \n",
       "2           2  190871          Neymar Jr   26   \n",
       "3           3  193080             De Gea   27   \n",
       "4           4  192985       K. De Bruyne   27   \n",
       "\n",
       "                                            Photo Nationality  \\\n",
       "0  https://cdn.sofifa.org/players/4/19/158023.png   Argentina   \n",
       "1   https://cdn.sofifa.org/players/4/19/20801.png    Portugal   \n",
       "2  https://cdn.sofifa.org/players/4/19/190871.png      Brazil   \n",
       "3  https://cdn.sofifa.org/players/4/19/193080.png       Spain   \n",
       "4  https://cdn.sofifa.org/players/4/19/192985.png     Belgium   \n",
       "\n",
       "                                  Flag  Overall  Potential  \\\n",
       "0  https://cdn.sofifa.org/flags/52.png       94         94   \n",
       "1  https://cdn.sofifa.org/flags/38.png       94         94   \n",
       "2  https://cdn.sofifa.org/flags/54.png       92         93   \n",
       "3  https://cdn.sofifa.org/flags/45.png       91         93   \n",
       "4   https://cdn.sofifa.org/flags/7.png       91         92   \n",
       "\n",
       "                  Club  ... Composure Marking StandingTackle  SlidingTackle  \\\n",
       "0         FC Barcelona  ...      96.0    33.0           28.0           26.0   \n",
       "1             Juventus  ...      95.0    28.0           31.0           23.0   \n",
       "2  Paris Saint-Germain  ...      94.0    27.0           24.0           33.0   \n",
       "3    Manchester United  ...      68.0    15.0           21.0           13.0   \n",
       "4      Manchester City  ...      88.0    68.0           58.0           51.0   \n",
       "\n",
       "  GKDiving  GKHandling  GKKicking  GKPositioning GKReflexes Release Clause  \n",
       "0      6.0        11.0       15.0           14.0        8.0        €226.5M  \n",
       "1      7.0        11.0       15.0           14.0       11.0        €127.1M  \n",
       "2      9.0         9.0       15.0           15.0       11.0        €228.1M  \n",
       "3     90.0        85.0       87.0           88.0       94.0        €138.6M  \n",
       "4     15.0        13.0        5.0           10.0       13.0        €196.4M  \n",
       "\n",
       "[5 rows x 89 columns]"
      ]
     },
     "execution_count": 8,
     "metadata": {},
     "output_type": "execute_result"
    }
   ],
   "source": [
    "fifa.head()"
   ]
  },
  {
   "cell_type": "code",
   "execution_count": null,
   "metadata": {},
   "outputs": [
    {
     "name": "stderr",
     "output_type": "stream",
     "text": [
      "C:\\Users\\jihit\\AppData\\Local\\Temp\\ipykernel_788\\2330907923.py:1: FutureWarning: Series.__getitem__ treating keys as positions is deprecated. In a future version, integer keys will always be treated as labels (consistent with DataFrame behavior). To access a value by position, use `ser.iloc[pos]`\n",
      "  left = fifa.loc[fifa['Preferred Foot'] == 'Left'].count()[0]\n"
     ]
    },
    {
     "data": {
      "text/plain": [
       "np.int64(4211)"
      ]
     },
     "execution_count": 32,
     "metadata": {},
     "output_type": "execute_result"
    }
   ],
   "source": [
    "left = fifa.loc[fifa['Preferred Foot'] == 'Left'].count()[0]\n",
    "\n",
    "left\n"
   ]
  },
  {
   "cell_type": "code",
   "execution_count": 33,
   "metadata": {},
   "outputs": [
    {
     "name": "stderr",
     "output_type": "stream",
     "text": [
      "C:\\Users\\jihit\\AppData\\Local\\Temp\\ipykernel_788\\3080512428.py:1: FutureWarning: Series.__getitem__ treating keys as positions is deprecated. In a future version, integer keys will always be treated as labels (consistent with DataFrame behavior). To access a value by position, use `ser.iloc[pos]`\n",
      "  right = fifa.loc[fifa['Preferred Foot'] == 'Right'].count()[0]\n"
     ]
    },
    {
     "data": {
      "text/plain": [
       "np.int64(13948)"
      ]
     },
     "execution_count": 33,
     "metadata": {},
     "output_type": "execute_result"
    }
   ],
   "source": [
    "right = fifa.loc[fifa['Preferred Foot'] == 'Right'].count()[0]\n",
    "\n",
    "right\n"
   ]
  },
  {
   "cell_type": "code",
   "execution_count": 42,
   "metadata": {},
   "outputs": [
    {
     "data": {
      "image/png": "[encoded data removed]",
      "text/plain": [
       "<Figure size 640x480 with 1 Axes>"
      ]
     },
     "metadata": {},
     "output_type": "display_data"
    }
   ],
   "source": [
    "labels = ['Left', 'Right']\n",
    "colors = ['#EC6B56', '#47B39C']\n",
    "\n",
    "plt.pie([left, right], labels=labels, colors=colors, autopct='%.2f%%')\n",
    "\n",
    "\n",
    "plt.show()"
   ]
  }
 ],
 "metadata": {
  "kernelspec": {
   "display_name": "Python 3",
   "language": "python",
   "name": "python3"
  },
  "language_info": {
   "codemirror_mode": {
    "name": "ipython",
    "version": 3
   },
   "file_extension": ".py",
   "mimetype": "text/x-python",
   "name": "python",
   "nbconvert_exporter": "python",
   "pygments_lexer": "ipython3",
   "version": "3.13.1"
  }
 },
 "nbformat": 4,
 "nbformat_minor": 2
}
